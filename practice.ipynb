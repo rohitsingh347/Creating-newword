{
 "cells": [
  {
   "cell_type": "code",
   "execution_count": 4,
   "metadata": {},
   "outputs": [
    {
     "data": {
      "text/plain": [
       "['emma', 'olivia', 'ava', 'isabella', 'sophia']"
      ]
     },
     "execution_count": 4,
     "metadata": {},
     "output_type": "execute_result"
    }
   ],
   "source": [
    "words  = open('names.txt', 'r').read().splitlines()\n",
    "#  reading the text file\n",
    "words[0:5]"
   ]
  },
  {
   "cell_type": "code",
   "execution_count": 7,
   "metadata": {},
   "outputs": [],
   "source": [
    "a= [len(w) for w in words]\n"
   ]
  },
  {
   "cell_type": "code",
   "execution_count": 13,
   "metadata": {},
   "outputs": [
    {
     "name": "stdout",
     "output_type": "stream",
     "text": [
      "\n",
      "without start and end character \n",
      "\n",
      "e m\n",
      "m m\n",
      "m a\n",
      "\n",
      "with start and end character \n",
      "\n",
      "<s> e\n",
      "e m\n",
      "m m\n",
      "m a\n",
      "a <e>\n"
     ]
    }
   ],
   "source": [
    "# trying bi-gram language model for the first word\n",
    "\n",
    "# without hallucination\n",
    "print (\"\\nwithout start and end character \\n\")\n",
    "for ele in words[0:1]:\n",
    "    for a,b in zip(ele,ele[1:]):\n",
    "        print (a,b)\n",
    "\n",
    "\n",
    "print (\"\\nwith start and end character \\n\")\n",
    "# with hallucinatios\n",
    "for ele in words[0:1]:\n",
    "    full = ['<s>'] + list(ele) + ['<e>'] #this is to hallucinate to start and end the word\n",
    "    for a,b in zip(full,full[1:]):\n",
    "        print (a,b)\n"
   ]
  }
 ],
 "metadata": {
  "kernelspec": {
   "display_name": "Python 3",
   "language": "python",
   "name": "python3"
  },
  "language_info": {
   "codemirror_mode": {
    "name": "ipython",
    "version": 3
   },
   "file_extension": ".py",
   "mimetype": "text/x-python",
   "name": "python",
   "nbconvert_exporter": "python",
   "pygments_lexer": "ipython3",
   "version": "3.10.2"
  }
 },
 "nbformat": 4,
 "nbformat_minor": 2
}
